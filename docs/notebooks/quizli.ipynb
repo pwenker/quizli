{
 "cells": [
  {
   "cell_type": "markdown",
   "id": "5e45f10d",
   "metadata": {},
   "source": [
    "# Create a simple Quiz"
   ]
  },
  {
   "cell_type": "code",
   "execution_count": 1,
   "id": "e1889fc1",
   "metadata": {},
   "outputs": [],
   "source": [
    "import quizli"
   ]
  },
  {
   "cell_type": "code",
   "execution_count": 2,
   "id": "2213d201",
   "metadata": {},
   "outputs": [
    {
     "name": "stdout",
     "output_type": "stream",
     "text": [
      "\n",
      "This module contains the main building blocks of the quiz logic.\n",
      "\n",
      "* The `QuizItem` class represents a question-answer pair\n",
      "* The `Quiz` class contains a list of `QuizItem's` containing the quiz data\n",
      "* The `QuizConfig` class serves to configure quiz settings \n",
      "* The `QuizMode` enumeration serves to set the quiz mode\n",
      "\n",
      "\n"
     ]
    }
   ],
   "source": [
    "print(quizli.quiz.__doc__)"
   ]
  },
  {
   "cell_type": "code",
   "execution_count": 3,
   "id": "0596f590",
   "metadata": {},
   "outputs": [],
   "source": [
    "from quizli import QuizItem, Quiz"
   ]
  },
  {
   "cell_type": "code",
   "execution_count": 4,
   "id": "03286c98",
   "metadata": {},
   "outputs": [],
   "source": [
    "questions_and_answers = {\n",
    "    \"What is the meaning of life?\": 42,\n",
    "    \"How to install quizli?\": \"pip install quizli\",\n",
    "}"
   ]
  },
  {
   "cell_type": "code",
   "execution_count": 5,
   "id": "a28a1c2e",
   "metadata": {},
   "outputs": [],
   "source": [
    "example_quiz = Quiz.from_dict(questions_and_answers, name='Example Quiz')"
   ]
  },
  {
   "cell_type": "code",
   "execution_count": 6,
   "id": "fb3ff15f",
   "metadata": {},
   "outputs": [
    {
     "name": "stdout",
     "output_type": "stream",
     "text": [
      "QuizItem(question='What is the meaning of life?', answer=42)\n",
      "QuizItem(question='How to install quizli?', answer='pip install quizli')\n"
     ]
    }
   ],
   "source": [
    "example_quiz.show()"
   ]
  },
  {
   "cell_type": "code",
   "execution_count": 7,
   "id": "9796c14b",
   "metadata": {},
   "outputs": [
    {
     "name": "stdout",
     "output_type": "stream",
     "text": [
      "Question: What is the meaning of life?\n"
     ]
    },
    {
     "data": {
      "text/html": [
       "<pre style=\"white-space:pre;overflow-x:auto;line-height:normal;font-family:Menlo,'DejaVu Sans Mono',consolas,'Courier New',monospace\"></pre>\n"
      ],
      "text/plain": []
     },
     "metadata": {},
     "output_type": "display_data"
    },
    {
     "name": "stdout",
     "output_type": "stream",
     "text": [
      "Answer: 42\n",
      "Question: How to install quizli?\n"
     ]
    },
    {
     "data": {
      "text/html": [
       "<pre style=\"white-space:pre;overflow-x:auto;line-height:normal;font-family:Menlo,'DejaVu Sans Mono',consolas,'Courier New',monospace\"></pre>\n"
      ],
      "text/plain": []
     },
     "metadata": {},
     "output_type": "display_data"
    },
    {
     "name": "stdout",
     "output_type": "stream",
     "text": [
      "Answer: pip install quizli\n"
     ]
    }
   ],
   "source": [
    "for quiz_item in example_quiz.items:\n",
    "    quiz_item.ask()"
   ]
  }
 ],
 "metadata": {
  "kernelspec": {
   "display_name": "Python 3 (ipykernel)",
   "language": "python",
   "name": "python3"
  },
  "language_info": {
   "codemirror_mode": {
    "name": "ipython",
    "version": 3
   },
   "file_extension": ".py",
   "mimetype": "text/x-python",
   "name": "python",
   "nbconvert_exporter": "python",
   "pygments_lexer": "ipython3",
   "version": "3.8.0"
  }
 },
 "nbformat": 4,
 "nbformat_minor": 5
}
